{
  "cells": [
    {
      "cell_type": "markdown",
      "id": "dfca58ce",
      "metadata": {
        "id": "dfca58ce"
      },
      "source": [
        "\n",
        "# Section 2: Article Analyzer\n",
        "\n",
        "This Colab notebook analyzes the tarrif article using OpenAI's **Responses API** .\n",
        "It demonstrates **structured outputs** (JSON Schema) so you can convert model judgements into clean data (e.g., political slant, sentiment, and article quality).\n",
        "\n",
        "### What you'll learn\n",
        "- How to call the Responses API with `response_format={\"type\":\"json_schema\", ... , \"strict\": true}`.\n",
        "- How to design a robust extraction prompt with clear rubrics to reduce ambiguity.\n",
        "- How to parse and store the model's JSON into a pandas DataFrame for later analysis.\n"
      ]
    },
    {
      "cell_type": "markdown",
      "id": "206f5e01",
      "metadata": {
        "id": "206f5e01"
      },
      "source": [
        "\n",
        "## 1) Setup"
      ]
    },
    {
      "cell_type": "code",
      "execution_count": 36,
      "id": "991f7247",
      "metadata": {
        "cellView": "form",
        "id": "991f7247"
      },
      "outputs": [],
      "source": [
        "# @title\n",
        "#@ Title\n",
        "import requests\n",
        "import json, polars as pl\n",
        "import openai\n",
        "from openai import OpenAI\n",
        "import os\n",
        "from google.colab import userdata\n",
        "from tqdm import tqdm\n",
        "\n",
        "OPENAI_API_KEY = userdata.get('OPENAI_API_KEY')\n",
        "\n",
        "if not OPENAI_API_KEY:\n",
        "    try:\n",
        "        import getpass\n",
        "        OPENAI_API_KEY = getpass.getpass(\"Enter your OpenAI API key (input hidden): \").strip()\n",
        "    except Exception:\n",
        "        raise ValueError(\"Unable to capture API key input. Set os.environ['OPENAI_API_KEY'] manually.\")\n",
        "\n",
        "if not OPENAI_API_KEY:\n",
        "    raise ValueError(\"Missing API key. Please provide a valid OpenAI API key.\")\n",
        "\n",
        "# Make the key available to the SDK\n",
        "os.environ[\"OPENAI_API_KEY\"] = OPENAI_API_KEY\n",
        "openai.api_key = OPENAI_API_KEY\n",
        "\n",
        "client = OpenAI(api_key=OPENAI_API_KEY)\n"
      ]
    },
    {
      "cell_type": "markdown",
      "id": "b9d82917",
      "metadata": {
        "id": "b9d82917"
      },
      "source": [
        "\n",
        "## 2.0) Working with text in Python\n",
        "\n",
        "- A useful Python trick for combining strings is using the `+` sign.\n",
        "\n",
        "For example:\n",
        "\n"
      ]
    },
    {
      "cell_type": "code",
      "source": [
        "text = \"Hello \" + \"World\"\n",
        "\n",
        "print(text) # -> \"Hello World\""
      ],
      "metadata": {
        "id": "S328mk3L7LLr"
      },
      "id": "S328mk3L7LLr",
      "execution_count": null,
      "outputs": []
    },
    {
      "cell_type": "code",
      "source": [
        "name = \"Calvin\"\n",
        "\n",
        "print(\"Hello \" + name) # --> \"Hello Calvin#"
      ],
      "metadata": {
        "id": "2JP1Ccwt7N95"
      },
      "id": "2JP1Ccwt7N95",
      "execution_count": null,
      "outputs": []
    },
    {
      "cell_type": "markdown",
      "source": [
        "## 2.1) Analyze the article using the Responses API\n",
        "\n",
        "### First, lets read in the article text. You don't need to understand how this works, but exposed so you can see the article text is stored in a variable called `article_text`\n"
      ],
      "metadata": {
        "id": "2K4uxTjj7STP"
      },
      "id": "2K4uxTjj7STP"
    },
    {
      "cell_type": "code",
      "source": [
        "URL = \"https://raw.githubusercontent.com/calisley/dpi-681/refs/heads/main/section-2/article.txt\"\n",
        "res = requests.get(URL, timeout=30)\n",
        "res.raise_for_status()\n",
        "res.encoding = res.encoding or \"utf-8\"\n",
        "article_text = res.text\n",
        "\n",
        "print(f\"Loaded from URL: {URL} ({len(article_text):,} chars)\")\n"
      ],
      "metadata": {
        "id": "oRCEdiv-8uTX"
      },
      "id": "oRCEdiv-8uTX",
      "execution_count": null,
      "outputs": []
    },
    {
      "cell_type": "markdown",
      "source": [
        "### Here, use the prompt engineering tricks we discussed in class to get the model to tell you something about the article\n",
        "\n",
        "- We use that string concatenation trick here to add it to our input prompt\n",
        "\n",
        "Play around with a few different system prompts and be ready to discuss what you found."
      ],
      "metadata": {
        "id": "wJqmktE786d_"
      },
      "id": "wJqmktE786d_"
    },
    {
      "cell_type": "code",
      "execution_count": null,
      "id": "7a412c7c",
      "metadata": {
        "id": "7a412c7c"
      },
      "outputs": [],
      "source": [
        "\n",
        "resp = client.responses.create(\n",
        "    model=\"gpt-5-mini\",\n",
        "    instructions=\"[Your system prompt here]\",\n",
        "    input=\"Analyze this article\" + article_text #String trick we learned\n",
        ")\n",
        "\n",
        "print(resp.output_text)\n"
      ]
    },
    {
      "cell_type": "markdown",
      "source": [
        "## 3) Interlude on Polars and Loops"
      ],
      "metadata": {
        "id": "a8jv-EtTDYCI"
      },
      "id": "a8jv-EtTDYCI"
    },
    {
      "cell_type": "markdown",
      "source": [
        "### Example: Basic DataFrame"
      ],
      "metadata": {
        "id": "xzWuUUxaDn8e"
      },
      "id": "xzWuUUxaDn8e"
    },
    {
      "cell_type": "code",
      "source": [
        "data = {\n",
        "    \"name\": [\"Alice\", \"Bob\"],\n",
        "    \"age\": [25, 30]\n",
        "}\n",
        "\n",
        "df = pl.DataFrame(data)\n",
        "print(df)"
      ],
      "metadata": {
        "id": "BOGWGmeNDYrj"
      },
      "id": "BOGWGmeNDYrj",
      "execution_count": null,
      "outputs": []
    },
    {
      "cell_type": "markdown",
      "source": [
        "Example: Reading in some data"
      ],
      "metadata": {
        "id": "ikusGg4sEbPE"
      },
      "id": "ikusGg4sEbPE"
    },
    {
      "cell_type": "code",
      "source": [
        "URL = \"https://raw.githubusercontent.com/calisley/dpi-681/refs/heads/main/section-2/articles.csv\"\n",
        "article_df = pl.read_csv(URL)\n",
        "print(article_df.head()) #prints the first 5 rows"
      ],
      "metadata": {
        "id": "7UvT9fhsEecN"
      },
      "id": "7UvT9fhsEecN",
      "execution_count": null,
      "outputs": []
    },
    {
      "cell_type": "markdown",
      "source": [
        "Example: Basic Loop"
      ],
      "metadata": {
        "id": "SfaPYTxXDtL6"
      },
      "id": "SfaPYTxXDtL6"
    },
    {
      "cell_type": "code",
      "source": [
        "numbers = [1, 2, 3, 4]\n",
        "for num in numbers:\n",
        "    print(num)"
      ],
      "metadata": {
        "id": "lHACley9Dne8"
      },
      "id": "lHACley9Dne8",
      "execution_count": null,
      "outputs": []
    },
    {
      "cell_type": "markdown",
      "source": [
        "Example: Looping over a dataframe\n",
        "\n",
        "> Important: Note how we extracted the \"name\" value for each row (`row['name']`) Think of this like each row being a dictionary, where the key is the column name and the value is the value you want."
      ],
      "metadata": {
        "id": "mzX5PefBDy9s"
      },
      "id": "mzX5PefBDy9s"
    },
    {
      "cell_type": "code",
      "source": [
        "df = pl.DataFrame({\n",
        "  \"name\": [\"Alice\", \"Bob\"],\n",
        "  \"age\": [25, 30]\n",
        "})\n",
        "\n",
        "for row in df.iter_rows(named=True):\n",
        "    print(row[\"name\"])"
      ],
      "metadata": {
        "id": "7GFyDHq9D3PD"
      },
      "id": "7GFyDHq9D3PD",
      "execution_count": null,
      "outputs": []
    },
    {
      "cell_type": "markdown",
      "source": [
        "Example: Looping over our article dataframe"
      ],
      "metadata": {
        "id": "UKNi4XERFpb4"
      },
      "id": "UKNi4XERFpb4"
    },
    {
      "cell_type": "code",
      "source": [
        "for row in article_df.iter_rows(named=True):\n",
        "    print(row[\"truncated_article\"]) # Here, we extract the truncated article by its column name as shown above"
      ],
      "metadata": {
        "id": "3iCjEbFjFewF"
      },
      "id": "3iCjEbFjFewF",
      "execution_count": null,
      "outputs": []
    },
    {
      "cell_type": "markdown",
      "id": "13d96cdb",
      "metadata": {
        "id": "13d96cdb"
      },
      "source": [
        "\n",
        "## 3) Large Scale Data Analysis\n",
        "\n"
      ]
    },
    {
      "cell_type": "code",
      "source": [
        "outputs = []\n",
        "\n",
        "for row in tqdm(\n",
        "    article_df.iter_rows(named=True),\n",
        "    total=article_df.height,          # total rows for an accurate bar\n",
        "    desc=\"Analyzing articles\"\n",
        "):\n",
        "    resp = # put your API request here (seen above in section 1)\n",
        "    # for speed, I would use gpt-5-nano, not gpt-5-mini\n",
        "    outputs.append(resp.output_text)   # <- collect one result per row\n",
        "\n",
        "# Add results as a new column\n",
        "article_df = article_df.with_columns(pl.Series(\"output\", outputs))\n",
        "\n",
        "print(article_df.head())"
      ],
      "metadata": {
        "id": "webW7CcrGQaN"
      },
      "id": "webW7CcrGQaN",
      "execution_count": null,
      "outputs": []
    },
    {
      "cell_type": "markdown",
      "source": [
        "## 3.1) If time, try to vibe code some analysis of this data.\n",
        "\n",
        "Ask Gemini to generate you a plot of your data."
      ],
      "metadata": {
        "id": "o2er-fzsIM5B"
      },
      "id": "o2er-fzsIM5B"
    },
    {
      "cell_type": "code",
      "source": [],
      "metadata": {
        "id": "0qhZKFN6GRvq"
      },
      "id": "0qhZKFN6GRvq",
      "execution_count": null,
      "outputs": []
    }
  ],
  "metadata": {
    "jupytext": {
      "cell_metadata_filter": "-all",
      "main_language": "python",
      "notebook_metadata_filter": "-all"
    },
    "language_info": {
      "name": "python"
    },
    "colab": {
      "provenance": []
    },
    "kernelspec": {
      "name": "python3",
      "display_name": "Python 3"
    }
  },
  "nbformat": 4,
  "nbformat_minor": 5
}