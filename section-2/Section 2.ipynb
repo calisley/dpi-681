{
 "cells": [
  {
   "cell_type": "code",
   "execution_count": null,
   "id": "7ca11ff1",
   "metadata": {},
   "outputs": [],
   "source": [
    "from openai import OpenAI\n",
    "import json"
   ]
  },
  {
   "cell_type": "code",
   "execution_count": null,
   "id": "2a0e4cd9",
   "metadata": {},
   "outputs": [],
   "source": [
    "# Initialize OpenAI client\n",
    "client = OpenAI(\n",
    "    api_key=\"\"  # Add your API key here\n",
    ")"
   ]
  },
  {
   "cell_type": "markdown",
   "id": "5d5790c6",
   "metadata": {},
   "source": [
    "CHALLENGE: Using the prompt engineering tools you learned this week, design a prompt that extracts something you might want to know about the article. \n",
    "This should be something you might want to convert into data to analyse later, like political slant, sentiment, or a rating of the article's quality"
   ]
  },
  {
   "cell_type": "code",
   "execution_count": null,
   "id": "ebe5de2a",
   "metadata": {},
   "outputs": [],
   "source": [
    "system_prompt = \"\"\"\n",
    "   YOUR PROMPT HERE\n",
    "\"\"\""
   ]
  },
  {
   "cell_type": "code",
   "execution_count": null,
   "id": "b272a60f",
   "metadata": {},
   "outputs": [],
   "source": [
    "# Read the article content from the file\n",
    "with open('./section-2/article.txt', 'r', encoding='utf-8') as file:\n",
    "    article_content = file.read()"
   ]
  },
  {
   "cell_type": "code",
   "execution_count": null,
   "id": "9bb6e4c0",
   "metadata": {},
   "outputs": [],
   "source": [
    "# Create a chat completion request to analyze the article\n",
    "completion = client.chat.completions.create(\n",
    "    model=\"gpt-4o\",\n",
    "     messages=[\n",
    "         #might need to add something here?\n",
    "        {\"role\": \"user\", \"content\": \"Analyze this article as instructed:\\n\" + article_content}\n",
    "    ],\n",
    "    #or sometihng here? does this change with what model you use?\n",
    ")"
   ]
  },
  {
   "cell_type": "code",
   "execution_count": null,
   "id": "723f5ce4",
   "metadata": {
    "lines_to_next_cell": 2
   },
   "outputs": [],
   "source": [
    "# Parse the response and print the JSON object\n",
    "response_content = completion.choices[0].message.content\n",
    "print(\"The model returned:\" + response_content)"
   ]
  }
 ],
 "metadata": {
  "jupytext": {
   "cell_metadata_filter": "-all",
   "main_language": "python",
   "notebook_metadata_filter": "-all"
  }
 },
 "nbformat": 4,
 "nbformat_minor": 5
}
