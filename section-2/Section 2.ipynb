{
 "cells": [
  {
   "cell_type": "code",
   "execution_count": null,
   "id": "7ca11ff1",
   "metadata": {},
   "outputs": [],
   "source": [
    "from openai import OpenAI\n",
    "import json"
   ]
  },
  {
   "cell_type": "markdown",
   "id": "5d5790c6",
   "metadata": {},
   "source": [
    "CHALLENGE: Using the prompt engineering tools you learned this week, design a prompt that extracts something you might want to know about the article. \n",
    "This should be something you might want to convert into data to analyse later, like political slant, sentiment, or a rating of the article's quality"
   ]
  },
  {
   "cell_type": "code",
   "execution_count": null,
   "id": "ebe5de2a",
   "metadata": {},
   "outputs": [],
   "source": [
    "system_prompt = \"\"\"\n",
    "   YOUR PROMPT HERE\n",
    "\"\"\""
   ]
  },
  {
   "cell_type": "code",
   "execution_count": null,
   "id": "b272a60f",
   "metadata": {},
   "outputs": [],
   "source": [
    "# Read the article content from the file\n",
    "with open('./section-2/article.txt', 'r', encoding='utf-8') as file:\n",
    "    article_content = file.read()"
   ]
  },
  {
   "cell_type": "code",
   "execution_count": null,
   "id": "9bb6e4c0",
   "metadata": {},
   "outputs": [],
   "source": [
    "# Create a chat completion request to analyze the article\n",
    "completion = client.chat.completions.create(\n",
    "    model=\"gpt-4o\",\n",
    "     messages=[\n",
    "         #might need to add something here?\n",
    "        {\"role\": \"user\", \"content\": \"Analyze this article as instructed:\\n\" + article_content}\n",
    "    ],\n",
    "    #or sometihng here? does this change with what model you use?\n",
    ")"
   ]
  },
  {
   "cell_type": "code",
   "execution_count": null,
   "id": "723f5ce4",
   "metadata": {
    "lines_to_next_cell": 2
   },
   "outputs": [],
   "source": [
    "# Parse the response and print the JSON object\n",
    "response_content = completion.choices[0].message.content\n",
    "print(\"The model returned:\" + response_content)"
   ]
  },
  {
   "cell_type": "markdown",
   "id": "dfca58ce",
   "metadata": {},
   "source": [
    "\n",
    "# Section 2: Article Analyzer\n",
    "\n",
    "This Colab notebook analyzes the tarrif article using OpenAI's **Responses API** .\n",
    "It demonstrates **structured outputs** (JSON Schema) so you can convert model judgements into clean data (e.g., political slant, sentiment, and article quality).\n",
    "\n",
    "### What you'll learn\n",
    "- How to call the Responses API with `response_format={\"type\":\"json_schema\", ... , \"strict\": true}`.\n",
    "- How to design a robust extraction prompt with clear rubrics to reduce ambiguity.\n",
    "- How to parse and store the model's JSON into a pandas DataFrame for later analysis.\n"
   ]
  },
  {
   "cell_type": "markdown",
   "id": "206f5e01",
   "metadata": {},
   "source": [
    "\n",
    "## 1) Setup"
   ]
  },
  {
   "cell_type": "code",
   "execution_count": null,
   "id": "991f7247",
   "metadata": {},
   "outputs": [],
   "source": [
    "#@ Title \n",
    "import requests\n",
    "import json, pandas as pd\n",
    "import OpenAI\n",
    "\n",
    "URL = \"https://raw.githubusercontent.com/calisley/dpi-681/refs/heads/main/section-2/article.txt\"  \n",
    "\n",
    "res = requests.get(URL, timeout=30)\n",
    "res.raise_for_status()\n",
    "res.encoding = res.encoding or \"utf-8\"\n",
    "article_text = res.text\n",
    "print(f\"Loaded from URL: {URL} ({len(article_text):,} chars)\")\n"
   ]
  },
  {
   "cell_type": "markdown",
   "id": "b9d82917",
   "metadata": {},
   "source": [
    "\n",
    "## 2) Call the Responses API"
   ]
  },
  {
   "cell_type": "code",
   "execution_count": null,
   "id": "7a412c7c",
   "metadata": {},
   "outputs": [],
   "source": [
    "\n",
    "resp = client.responses.create(\n",
    "    model=\"gpt-5-mini\",\n",
    "    instructions=\"\",\n",
    "    input=\"\"\n",
    ")\n",
    "\n",
    "print(resp.output_text)\n"
   ]
  },
  {
   "cell_type": "markdown",
   "id": "13d96cdb",
   "metadata": {},
   "source": [
    "\n",
    "## 5) Where to put your CSV (for the later assignment)\n",
    "\n",
    "- For one student or quick experiments, saving to Colab's /content is fine but ephemeral.\n",
    "- For class use, create a Google Drive folder, e.g. `MyDrive/course_data/section2/`. Keep a stable path.\n",
    "- If you want students to download a canonical CSV reliably, place it in Drive and share a view-only link, or host it at a public URL (e.g., GitHub raw).\n",
    "\n",
    "Below is a helper to fetch a CSV from:\n",
    "- Drive via file ID using `gdown`, or\n",
    "- URL via `pandas.read_csv(URL)`.\n"
   ]
  },
  {
   "cell_type": "code",
   "execution_count": null,
   "id": "551c00d1",
   "metadata": {},
   "outputs": [],
   "source": [
    "\n",
    "# Example: fetch CSV from Google Drive by file ID (recommended for class distribution)\n",
    "# 1) Put CSV in Drive, right-click -> \"Get link\" -> copy the file ID from the URL.\n",
    "# 2) Paste the ID below.\n",
    "USE_GDRIVE_CSV = False\n",
    "GDRIVE_FILE_ID = \"1abcDEF_fake_id_example\"  # <-- replace with real file ID\n",
    "CSV_OUT = \"/content/my_dataset.csv\"\n",
    "\n",
    "if USE_GDRIVE_CSV:\n",
    "    import gdown, pandas as pd\n",
    "    url = f\"https://drive.google.com/uc?id={GDRIVE_FILE_ID}\"\n",
    "    gdown.download(url, CSV_OUT, quiet=False)\n",
    "    df_csv = pd.read_csv(CSV_OUT)\n",
    "    print(df_csv.head())\n"
   ]
  },
  {
   "cell_type": "code",
   "execution_count": null,
   "id": "da29bea5",
   "metadata": {},
   "outputs": [],
   "source": [
    "\n",
    "# Alternative: load a CSV from a public URL\n",
    "USE_URL_CSV = False\n",
    "CSV_URL = \"https://raw.githubusercontent.com/mwaskom/seaborn-data/master/iris.csv\"  # example\n",
    "\n",
    "if USE_URL_CSV:\n",
    "    import pandas as pd\n",
    "    df_csv = pd.read_csv(CSV_URL)\n",
    "    print(\"Loaded CSV from URL:\", CSV_URL)\n",
    "    print(df_csv.head())\n"
   ]
  }
 ],
 "metadata": {
  "jupytext": {
   "cell_metadata_filter": "-all",
   "main_language": "python",
   "notebook_metadata_filter": "-all"
  },
  "language_info": {
   "name": "python"
  }
 },
 "nbformat": 4,
 "nbformat_minor": 5
}
