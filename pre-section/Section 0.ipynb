{
  "cells": [
    {
      "cell_type": "markdown",
      "metadata": {
        "id": "1L9jDm9oxIw4"
      },
      "source": [
        "# Colab + Python: Quick Intro for DPI-681 Breakout Sections\n",
        "\n",
        "This goal of this notebook gets you comfortable running code in **Google Colab**, editing cells, and writing a few short functions in Python.\n",
        "\n",
        "Before you start: Click File → Save a copy in Drive. This way you will not lose your progress if you want to refer back to this later!\n",
        "\n",
        "**What you will do**\n",
        "1. Learn how to run and edit cells.\n",
        "2. Get your section password.\n",
        "\n",
        "\n",
        "\n",
        "\n",
        "Optional, but encouraged!\n",
        "\n",
        "\n",
        "3. Practice basic Python with a small quiz.\n",
        "4. Do two short interactive exercises to check your skills.\n"
      ],
      "id": "1L9jDm9oxIw4"
    },
    {
      "cell_type": "markdown",
      "metadata": {
        "id": "C07zTgckxIw5"
      },
      "source": [
        "## How to use Colab\n",
        "- Run a cell with **Shift+Enter**.\n",
        "- Add a new cell with **+ Code** or **+ Text** in the toolbar.\n",
        "- If Python gets into a bad state, use **Runtime → Restart runtime**.\n",
        "- To see help for a function, run `help(function_name)`.\n",
        "- Print things with `print(...)` to inspect values quickly."
      ],
      "id": "C07zTgckxIw5"
    },
    {
      "cell_type": "markdown",
      "metadata": {
        "id": "Cdz-ZFCOxIw5"
      },
      "source": [
        "## 0) Run the setup and get your section password!"
      ],
      "id": "Cdz-ZFCOxIw5"
    },
    {
      "cell_type": "code",
      "execution_count": null,
      "id": "a769c3d0",
      "metadata": {
        "cellView": "form",
        "id": "a769c3d0"
      },
      "outputs": [],
      "source": [
        "#@title Setup\n",
        "import base64\n",
        "import random\n",
        "import openai\n",
        "\n",
        "encoded_password = b'Z2VuZXJhdGl2ZQ=='\n",
        "encoded_second_password = b'MiwzLDUsNywxMSwxMywxNywxOSwyMywyOSwzMSwzNyw0MSw0Myw0Nyw1Myw1OSw2MSw2Nyw3MSw3Myw3OSw4Myw4OSw5Nw=='\n",
        "\n",
        "# Decoding the password at runtime.\n",
        "secret_password = base64.b64decode(encoded_password).decode('utf-8')\n",
        "\n",
        "# Decode the encoded primes string and convert it to a list of integers.\n",
        "second_string = base64.b64decode(encoded_second_password).decode('utf-8')\n",
        "array_of_second = [int(num) for num in second_string.split(',')]\n",
        "\n",
        "# Choose a random prime number from the list.\n",
        "second_pass = random.choice(array_of_second)\n",
        "\n",
        "# Append the random prime number to the decoded password.\n",
        "password = secret_password + str(second_pass)\n",
        "SETUP_COMPLETE = True"
      ]
    },
    {
      "cell_type": "code",
      "execution_count": null,
      "metadata": {
        "cellView": "form",
        "id": "VF97TGsZxIw5"
      },
      "outputs": [],
      "source": [
        "#@title Setup Check\n",
        "if 'SETUP_COMPLETE' in globals() and SETUP_COMPLETE is True:\n",
        "    print('Setup looks complete. You are good to go.')\n",
        "else:\n",
        "    print('Note: I do not see SETUP_COMPLETE == True. If your setup block uses a different signal, you can ignore this.')"
      ],
      "id": "VF97TGsZxIw5"
    },
    {
      "cell_type": "markdown",
      "id": "1aeff2bb",
      "metadata": {
        "id": "1aeff2bb"
      },
      "source": [
        "## Please confirm you see\n",
        "> Setup looks complete. You are good to go.\n",
        "\n",
        "In the notebook before continuing!\n",
        "\n",
        "In the setup, we have defined a variable called `password`. Add a new code cell below this block (click \"+ Code\" in the toolbar), and call the `print(...)` function on the variable password. If you're confused, refer to the Python Basics section below."
      ]
    },
    {
      "cell_type": "code",
      "source": [
        "# TODO: your print function goes here"
      ],
      "metadata": {
        "id": "aoOtnojF1OeG"
      },
      "id": "aoOtnojF1OeG",
      "execution_count": null,
      "outputs": []
    },
    {
      "cell_type": "markdown",
      "source": [
        "# Optional Basics. Useful if you're less familiar with Python!\n"
      ],
      "metadata": {
        "id": "vuSTfYVG1NEA"
      },
      "id": "vuSTfYVG1NEA"
    },
    {
      "cell_type": "markdown",
      "metadata": {
        "id": "sjs4BAY3xIw6"
      },
      "source": [
        "## 1) Python basics\n",
        "A few quick reminders. Feel free to edit and re-run these cells to see what changes. You can also ask Gemini (icon on the bottom of the notebook) to explain what things are doing! Click on the three dots in the top right of the block you are confused about and select \"Explain Code\"\n"
      ],
      "id": "sjs4BAY3xIw6"
    },
    {
      "cell_type": "code",
      "execution_count": null,
      "metadata": {
        "id": "GfbG363exIw7"
      },
      "outputs": [],
      "source": [
        "# Variables and types\n",
        "x = 3\n",
        "y = 2.5\n",
        "name = 'Ada'\n",
        "is_ready = True\n",
        "\n",
        "print(x + 2)            # arithmetic\n",
        "print(type(y))          # type of a value\n",
        "print(name.upper())     # string method\n",
        "print(is_ready and (x > 1))"
      ],
      "id": "GfbG363exIw7"
    },
    {
      "cell_type": "code",
      "execution_count": null,
      "metadata": {
        "id": "YtBLLOzPxIw7"
      },
      "outputs": [],
      "source": [
        "# Lists and dictionaries\n",
        "nums = [1, 2, 3, 4, 5]\n",
        "info = {'course': 'Intro', 'year': 2025}\n",
        "\n",
        "print(nums[0], nums[-1])       # indexing\n",
        "print(nums[1:4])               # slicing\n",
        "nums.append(6)\n",
        "info['instructor'] = 'You'\n",
        "print(nums)\n",
        "print(info)"
      ],
      "id": "YtBLLOzPxIw7"
    },
    {
      "cell_type": "code",
      "execution_count": null,
      "metadata": {
        "id": "tVRtBdZdxIw7"
      },
      "outputs": [],
      "source": [
        "# Control flow and functions\n",
        "def describe_number(n):\n",
        "    if n % 2 == 0:\n",
        "        return f\"{n} is even\"\n",
        "    else:\n",
        "        return f\"{n} is odd\"\n",
        "\n",
        "for n in range(1, 6):\n",
        "    print(describe_number(n))"
      ],
      "id": "tVRtBdZdxIw7"
    },
    {
      "cell_type": "markdown",
      "id": "65750e11",
      "metadata": {
        "id": "65750e11"
      },
      "source": [
        "## Wrap up\n",
        "- You ran a setup block.\n",
        "- You reviewed core Python concepts.\n",
        "\n",
        "If you got stuck, read the error trace from the bottom up. Use `print(...)` to inspect values. Use `help(name)` to check a function. Keep changes small and test often."
      ]
    }
  ],
  "metadata": {
    "colab": {
      "name": "Colab_Python_Intro.ipynb",
      "provenance": []
    },
    "kernelspec": {
      "display_name": "Python 3",
      "language": "python",
      "name": "python3"
    },
    "language_info": {
      "name": "python",
      "version": "3.x"
    }
  },
  "nbformat": 4,
  "nbformat_minor": 5
}