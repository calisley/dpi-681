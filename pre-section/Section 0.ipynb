{
  "cells": [
    {
      "cell_type": "markdown",
      "metadata": {},
      "source": [
        "# Colab + Python: Quick Intro for DPI-681 Breakout Sections\n",
        "\n",
        "This goal of this notebook gets you comfortable running code in **Google Colab**, editing cells, and writing a few short functions in Python.\n",
        "\n",
        "**What you will do**\n",
        "1. Learn how to run and edit cells.\n",
        "2. Get your section password. \n",
        "\n",
        "\n",
        "\n",
        "\n",
        "Optional, but encouraged!\n",
        "\n",
        "\n",
        "3. Practice basic Python with a small quiz.\n",
        "4. Do two short interactive exercises to check your skills.\n"
      ]
    },
    {
      "cell_type": "markdown",
      "metadata": {},
      "source": [
        "## How to use Colab\n",
        "- Run a cell with **Shift+Enter**.\n",
        "- Add a new cell with **+ Code** or **+ Text** in the toolbar.\n",
        "- If Python gets into a bad state, use **Runtime → Restart runtime**.\n",
        "- To see help for a function, run `help(function_name)`.\n",
        "- Print things with `print(...)` to inspect values quickly."
      ]
    },
    {
      "cell_type": "markdown",
      "metadata": {},
      "source": [
        "## 0) Run the setup and get your section password!"
      ]
    },
    {
      "cell_type": "code",
      "execution_count": null,
      "id": "a769c3d0",
      "metadata": {},
      "outputs": [],
      "source": [
        "#@title Setup\n",
        "import base64\n",
        "import random\n",
        "import openai\n",
        "\n",
        "encoded_password = b'Z2VuZXJhdGl2ZQ=='\n",
        "encoded_second_password = b'MiwzLDUsNywxMSwxMywxNywxOSwyMywyOSwzMSwzNyw0MSw0Myw0Nyw1Myw1OSw2MSw2Nyw3MSw3Myw3OSw4Myw4OSw5Nw=='\n",
        "\n",
        "# Decoding the password at runtime.\n",
        "secret_password = base64.b64decode(encoded_password).decode('utf-8')\n",
        "\n",
        "# Decode the encoded primes string and convert it to a list of integers.\n",
        "second_string = base64.b64decode(encoded_second_password).decode('utf-8')\n",
        "array_of_second = [int(num) for num in second_string.split(',')]\n",
        "\n",
        "# Choose a random prime number from the list.\n",
        "second_pass = random.choice(array_of_second)\n",
        "\n",
        "# Append the random prime number to the decoded password.\n",
        "password = secret_password + str(second_pass)\n",
        "SETUP_COMPLETE = True"
      ]
    },
    {
      "cell_type": "code",
      "execution_count": null,
      "metadata": {},
      "outputs": [],
      "source": [
        "#@title Setup Check\n",
        "if 'SETUP_COMPLETE' in globals() and SETUP_COMPLETE is True:\n",
        "    print('Setup looks complete. You are good to go.')\n",
        "else:\n",
        "    print('Note: I do not see SETUP_COMPLETE == True. If your setup block uses a different signal, you can ignore this.')"
      ]
    },
    {
      "cell_type": "markdown",
      "id": "1aeff2bb",
      "metadata": {},
      "source": [
        "## Please confirm you see \n",
        "> Setup looks complete. You are good to go. \n",
        "\n",
        "In the notebook before continuing! \n",
        "\n",
        "In the setup, we have defined a variable called `password`. Add a new code cell below this block (click \"+ Code\" in the toolbar), and call the `print(...)` function on the variable password. If you're confused, refer to the Python Basics section below."
      ]
    },
    {
      "cell_type": "markdown",
      "id": "39525f70",
      "metadata": {},
      "source": [
        "# Optional Sections. Useful if you're less familiar with Python!"
      ]
    },
    {
      "cell_type": "markdown",
      "metadata": {},
      "source": [
        "## 1) Python basics\n",
        "A few quick reminders. Feel free to edit and re-run these cells to see what changes."
      ]
    },
    {
      "cell_type": "code",
      "execution_count": null,
      "metadata": {},
      "outputs": [],
      "source": [
        "# Variables and types\n",
        "x = 3\n",
        "y = 2.5\n",
        "name = 'Ada'\n",
        "is_ready = True\n",
        "\n",
        "print(x + 2)            # arithmetic\n",
        "print(type(y))          # type of a value\n",
        "print(name.upper())     # string method\n",
        "print(is_ready and (x > 1))"
      ]
    },
    {
      "cell_type": "code",
      "execution_count": null,
      "metadata": {},
      "outputs": [],
      "source": [
        "# Lists and dictionaries\n",
        "nums = [1, 2, 3, 4, 5]\n",
        "info = {'course': 'Intro', 'year': 2025}\n",
        "\n",
        "print(nums[0], nums[-1])       # indexing\n",
        "print(nums[1:4])               # slicing\n",
        "nums.append(6)\n",
        "info['instructor'] = 'You'\n",
        "print(nums)\n",
        "print(info)"
      ]
    },
    {
      "cell_type": "code",
      "execution_count": null,
      "metadata": {},
      "outputs": [],
      "source": [
        "# Control flow and functions\n",
        "def describe_number(n):\n",
        "    if n % 2 == 0:\n",
        "        return f\"{n} is even\"\n",
        "    else:\n",
        "        return f\"{n} is odd\"\n",
        "\n",
        "for n in range(1, 6):\n",
        "    print(describe_number(n))"
      ]
    },
    {
      "cell_type": "markdown",
      "metadata": {},
      "source": [
        "## 2) Quick quiz\n",
        "Answer two short questions. You will get feedback as soon as you click **Check**."
      ]
    },
    {
      "cell_type": "code",
      "execution_count": null,
      "metadata": {},
      "outputs": [],
      "source": [
        "from ipywidgets import RadioButtons, Button, VBox, HTML\n",
        "from IPython.display import display, clear_output\n",
        "\n",
        "# Q1\n",
        "q1 = RadioButtons(\n",
        "    options=['int', 'float', 'str', 'bool'],\n",
        "    description='Type of 3/2:',\n",
        "    value=None\n",
        ")\n",
        "\n",
        "# Q2\n",
        "q2 = RadioButtons(\n",
        "    options=['a[7:]', 'a[-3:]', 'a[0:3]', 'a[:3]'],\n",
        "    description='Last 3 of a:',\n",
        "    value=None\n",
        ")\n",
        "\n",
        "feedback = HTML()\n",
        "check_btn = Button(description='Check', button_style='')\n",
        "\n",
        "def check_answers(_):\n",
        "    correct1 = (q1.value == 'float')\n",
        "    correct2 = (q2.value == 'a[-3:]')\n",
        "    if correct1 and correct2:\n",
        "        feedback.value = '<b>All correct.</b> Nice. Move on to the exercises.'\n",
        "    else:\n",
        "        msg = []\n",
        "        if not correct1:\n",
        "            msg.append('Q1: 3/2 is a float in Python 3.')\n",
        "        if not correct2:\n",
        "            msg.append(\"Q2: The last three items of list a are a[-3:].\")\n",
        "        feedback.value = '<br>'.join(msg)\n",
        "\n",
        "check_btn.on_click(check_answers)\n",
        "display(VBox([q1, q2, check_btn, feedback]))"
      ]
    },
    {
      "cell_type": "markdown",
      "metadata": {},
      "source": [
        "## 3) Exercise 1: Mini calculator (interactive)\n",
        "Build intuition for variables, input, and basic operations. Change the values and operator to see the result update.\n",
        "\n",
        "**Task:** Read the code. Predict the result before running. Then run and try different inputs.\n"
      ]
    },
    {
      "cell_type": "code",
      "execution_count": null,
      "metadata": {},
      "outputs": [],
      "source": [
        "from ipywidgets import FloatText, Dropdown, Output, HBox, VBox, Label\n",
        "from IPython.display import display\n",
        "\n",
        "a_in = FloatText(value=3.0, description='a:')\n",
        "b_in = FloatText(value=2.0, description='b:')\n",
        "op_in = Dropdown(options=['+', '-', '*', '/'], value='+', description='op:')\n",
        "out = Output()\n",
        "\n",
        "def compute(*_):\n",
        "    a, b, op = a_in.value, b_in.value, op_in.value\n",
        "    try:\n",
        "        if op == '+':\n",
        "            result = a + b\n",
        "        elif op == '-':\n",
        "            result = a - b\n",
        "        elif op == '*':\n",
        "            result = a * b\n",
        "        elif op == '/':\n",
        "            result = a / b\n",
        "        else:\n",
        "            result = 'Unknown op'\n",
        "    except ZeroDivisionError:\n",
        "        result = 'Error: division by zero'\n",
        "    with out:\n",
        "        out.clear_output()\n",
        "        print('Result:', result, '| Type:', type(result).__name__)\n",
        "\n",
        "for w in (a_in, b_in, op_in):\n",
        "    w.observe(compute, names='value')\n",
        "\n",
        "display(VBox([HBox([a_in, b_in, op_in]), out]))\n",
        "compute()"
      ]
    },
    {
      "cell_type": "markdown",
      "metadata": {},
      "source": [
        "## 4) Exercise 2: Write a function and pass the tests\n",
        "**Goal:** Write a function that **returns a new list** containing the squares of the even integers from the input.\n",
        "\n",
        "**Spec**\n",
        "- Name: `square_evens`\n",
        "- Input: `nums` (list of numbers)\n",
        "- Output: a list of squares for the even integers in `nums`, in their original order\n",
        "- Ignore non-integer values\n",
        "\n",
        "**Examples**\n",
        "- `square_evens([1, 2, 3, 4])` → `[4, 16]`\n",
        "- `square_evens([0, 2.0, 5, -6])` → `[0, 36]` (2.0 is not an int)\n",
        "\n",
        "Write your function in the next cell. Then run the tests."
      ]
    },
    {
      "cell_type": "code",
      "execution_count": null,
      "metadata": {
        "id": "student_fn"
      },
      "outputs": [],
      "source": [
        "def square_evens(nums):\n",
        "    \"\"\"Return a list with squares of the even integers in nums.\n",
        "    Keep original order. Ignore non-integers.\n",
        "    \"\"\"\n",
        "    # TODO: your code here\n",
        "    result = []\n",
        "    for x in nums:\n",
        "        if isinstance(x, int) and x % 2 == 0:\n",
        "            result.append(x * x)\n",
        "    return result"
      ]
    },
    {
      "cell_type": "code",
      "execution_count": null,
      "metadata": {},
      "outputs": [],
      "source": [
        "# Tests. Read them to understand expected behavior.\n",
        "def check_equal(got, expected, msg=''):\n",
        "    if got == expected:\n",
        "        print('PASS', msg)\n",
        "    else:\n",
        "        print('FAIL', msg)\n",
        "        print('  got     :', got)\n",
        "        print('  expected:', expected)\n",
        "\n",
        "check_equal(square_evens([1, 2, 3, 4]), [4, 16], 'basic')\n",
        "check_equal(square_evens([0, 2.0, 5, -6]), [0, 36], 'ignore non-ints, handle negatives')\n",
        "check_equal(square_evens([]), [], 'empty list')\n",
        "check_equal(square_evens([7, 9, 11]), [], 'no evens')\n",
        "check_equal(square_evens([10, 8, 6, 4, 2]), [100, 64, 36, 16, 4], 'order kept')"
      ]
    },
    {
      "cell_type": "markdown",
      "id": "65750e11",
      "metadata": {},
      "source": [
        "## Wrap up\n",
        "- You ran a setup block.\n",
        "- You practiced core Python concepts.\n",
        "- You completed two short exercises.\n",
        "\n",
        "If you got stuck, read the error trace from the bottom up. Use `print(...)` to inspect values. Use `help(name)` to check a function. Keep changes small and test often."
      ]
    }
  ],
  "metadata": {
    "colab": {
      "name": "Colab_Python_Intro.ipynb",
      "provenance": []
    },
    "kernelspec": {
      "display_name": "Python 3",
      "language": "python",
      "name": "python3"
    },
    "language_info": {
      "name": "python",
      "version": "3.x"
    }
  },
  "nbformat": 4,
  "nbformat_minor": 5
}
