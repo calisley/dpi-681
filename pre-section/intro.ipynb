{
  "cells": [
    {
      "cell_type": "code",
      "execution_count": 76,
      "id": "8084bdf3",
      "metadata": {
        "id": "8084bdf3",
        "cellView": "form"
      },
      "outputs": [],
      "source": [
        "#@title Setup\n",
        "import base64\n",
        "import random\n",
        "import openai\n",
        "\n",
        "encoded_password = b'Z2VuZXJhdGl2ZQ=='\n",
        "encoded_second_password = b'MiwzLDUsNywxMSwxMywxNywxOSwyMywyOSwzMSwzNyw0MSw0Myw0Nyw1Myw1OSw2MSw2Nyw3MSw3Myw3OSw4Myw4OSw5Nw=='\n",
        "\n",
        "# Decoding the password at runtime.\n",
        "secret_password = base64.b64decode(encoded_password).decode('utf-8')\n",
        "\n",
        "# Decode the encoded primes string and convert it to a list of integers.\n",
        "second_string = base64.b64decode(encoded_second_password).decode('utf-8')\n",
        "array_of_second = [int(num) for num in second_string.split(',')]\n",
        "\n",
        "# Choose a random prime number from the list.\n",
        "second_pass = random.choice(array_of_second)\n",
        "\n",
        "# Append the random prime number to the decoded password.\n",
        "final_password = secret_password + str(second_pass)"
      ]
    },
    {
      "cell_type": "code",
      "execution_count": 77,
      "id": "4a5cf97a",
      "metadata": {
        "id": "4a5cf97a",
        "colab": {
          "base_uri": "https://localhost:8080/"
        },
        "outputId": "3f977085-a211-43f5-a833-3bc2dee1a7ed"
      },
      "outputs": [
        {
          "output_type": "stream",
          "name": "stdout",
          "text": [
            "generative2\n"
          ]
        }
      ],
      "source": [
        "print(final_password)"
      ]
    }
  ],
  "metadata": {
    "jupytext": {
      "cell_metadata_filter": "-all",
      "main_language": "python",
      "notebook_metadata_filter": "-all"
    },
    "colab": {
      "provenance": []
    },
    "language_info": {
      "name": "python"
    },
    "kernelspec": {
      "name": "python3",
      "display_name": "Python 3"
    }
  },
  "nbformat": 4,
  "nbformat_minor": 5
}