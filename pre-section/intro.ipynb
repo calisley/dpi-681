{
  "cells": [
    {
      "cell_type": "code",
      "source": [
        "from google.colab import drive\n",
        "drive.mount('/content/drive')\n"
      ],
      "metadata": {
        "id": "RzZUMU3mf_OK",
        "outputId": "adc48542-a783-4b96-8f0c-87dbe859e20a",
        "colab": {
          "base_uri": "https://localhost:8080/"
        }
      },
      "id": "RzZUMU3mf_OK",
      "execution_count": 1,
      "outputs": [
        {
          "output_type": "stream",
          "name": "stdout",
          "text": [
            "Mounted at /content/drive\n"
          ]
        }
      ]
    },
    {
      "cell_type": "code",
      "execution_count": null,
      "id": "8084bdf3",
      "metadata": {
        "id": "8084bdf3"
      },
      "outputs": [],
      "source": [
        "import base64\n",
        "import random\n",
        "import openai"
      ]
    },
    {
      "cell_type": "code",
      "execution_count": null,
      "id": "b9100538",
      "metadata": {
        "id": "b9100538"
      },
      "outputs": [],
      "source": [
        "encoded_password = b'Z2VuZXJhdGl2ZQ=='\n",
        "encoded_second_password = b'MiwzLDUsNywxMSwxMywxNywxOSwyMywyOSwzMSwzNyw0MSw0Myw0Nyw1Myw1OSw2MSw2Nyw3MSw3Myw3OSw4Myw4OSw5Nw=='"
      ]
    },
    {
      "cell_type": "code",
      "execution_count": null,
      "id": "16ba9701",
      "metadata": {
        "id": "16ba9701"
      },
      "outputs": [],
      "source": [
        "# Decoding the password at runtime.\n",
        "secret_password = base64.b64decode(encoded_password).decode('utf-8')"
      ]
    },
    {
      "cell_type": "code",
      "execution_count": null,
      "id": "9c6f7355",
      "metadata": {
        "id": "9c6f7355"
      },
      "outputs": [],
      "source": [
        "# Decode the encoded primes string and convert it to a list of integers.\n",
        "second_string = base64.b64decode(encoded_second_password).decode('utf-8')\n",
        "array_of_second = [int(num) for num in second_string.split(',')]"
      ]
    },
    {
      "cell_type": "code",
      "execution_count": null,
      "id": "c21b5f44",
      "metadata": {
        "id": "c21b5f44"
      },
      "outputs": [],
      "source": [
        "# Choose a random prime number from the list.\n",
        "second_pass = random.choice(array_of_second)"
      ]
    },
    {
      "cell_type": "code",
      "execution_count": null,
      "id": "59479277",
      "metadata": {
        "id": "59479277"
      },
      "outputs": [],
      "source": [
        "# Append the random prime number to the decoded password.\n",
        "final_password = secret_password + str(second_pass)"
      ]
    },
    {
      "cell_type": "code",
      "execution_count": null,
      "id": "4a5cf97a",
      "metadata": {
        "id": "4a5cf97a"
      },
      "outputs": [],
      "source": [
        "print(final_password)"
      ]
    }
  ],
  "metadata": {
    "jupytext": {
      "cell_metadata_filter": "-all",
      "main_language": "python",
      "notebook_metadata_filter": "-all"
    },
    "colab": {
      "provenance": []
    },
    "language_info": {
      "name": "python"
    },
    "kernelspec": {
      "name": "python3",
      "display_name": "Python 3"
    }
  },
  "nbformat": 4,
  "nbformat_minor": 5
}